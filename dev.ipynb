{
 "cells": [
  {
   "cell_type": "code",
   "execution_count": 72,
   "id": "b25a552c-6c92-4274-9de7-475a7975a894",
   "metadata": {},
   "outputs": [],
   "source": [
    "import numpy as np\n",
    "import pandas as pd\n",
    "import polars as pl\n",
    "import matplotlib.pyplot as plt\n",
    "import seaborn as sns\n",
    "import pyarrow\n",
    "from ydata_profiling import ProfileReport\n",
    "from io import StringIO\n",
    "from datetime import datetime\n",
    "import os\n",
    "from ast import literal_eval\n",
    "import random\n",
    "import string"
   ]
  },
  {
   "cell_type": "code",
   "execution_count": 2,
   "id": "20d53300-5966-4e02-a496-193a345736ce",
   "metadata": {},
   "outputs": [],
   "source": [
    "df = pd.read_csv('variant_v.csv')\n",
    "df1 = pd.read_csv('base.csv')"
   ]
  },
  {
   "cell_type": "code",
   "execution_count": 86,
   "id": "4d2f5712-444c-4f39-b83f-409bc1e65839",
   "metadata": {},
   "outputs": [],
   "source": [
    "def ingest_csv(path, data_type='csv'):\n",
    "    '''\n",
    "    Reads a file into a Dataframe\n",
    "    \n",
    "    path: Path to a file or a file-like object.\n",
    "    By file-like object, we refer to objects with a ``read()``\n",
    "    method\n",
    "    \n",
    "    has_header: Indicate if the first row of dataset is a header or not.\n",
    "    \n",
    "    '''\n",
    "    try:\n",
    "        if data_type=='csv':\n",
    "            df = pd.read_csv(path)\n",
    "            shape = df.shape\n",
    "            if shape[0] == 0:\n",
    "                print(\"Empty Dataframe with (0,0) entries\")\n",
    "        else:\n",
    "            return df\n",
    "            \n",
    "    except FileNotFoundError:\n",
    "        print(\"No such file or directory: \" + \"{}\".format(path))\n",
    "        \n",
    "def metric_summary(df, path_to_save=None, columns=None):\n",
    "    '''\n",
    "    Summarizes metrics of a dataframe:\n",
    "    \n",
    "    >>> from datetime import date\n",
    "    >>> df = pd.DataFrame(\n",
    "    ...     {\n",
    "    ...         \"a\": [1.0, 2.8, 3.0],\n",
    "    ...         \"b\": [4, 5, None],\n",
    "    ...         \"c\": [True, False, True],\n",
    "    ...         \"d\": [None, \"b\", \"c\"],\n",
    "    ...         \"e\": [\"usd\", \"eur\", None],\n",
    "    ...         \"f\": [date(2020, 1, 1), date(2021, 1, 1), date(2022, 1, 1)],\n",
    "    ...     }\n",
    "    ... )\n",
    "    \n",
    "    >>> df.describe()\n",
    "    shape: (7, 7)\n",
    "    ┌────────────┬──────────┬──────────┬──────────┬──────┬──────┬────────────┐\n",
    "    │ describe   ┆ a        ┆ b        ┆ c        ┆ d    ┆ e    ┆ f          │\n",
    "    │ ---        ┆ ---      ┆ ---      ┆ ---      ┆ ---  ┆ ---  ┆ ---        │\n",
    "    │ str        ┆ f64      ┆ f64      ┆ f64      ┆ str  ┆ str  ┆ str        │\n",
    "    ╞════════════╪══════════╪══════════╪══════════╪══════╪══════╪════════════╡\n",
    "    │ count      ┆ 3.0      ┆ 3.0      ┆ 3.0      ┆ 3    ┆ 3    ┆ 3          │\n",
    "    │ null_count ┆ 0.0      ┆ 1.0      ┆ 0.0      ┆ 1    ┆ 1    ┆ 0          │\n",
    "    │ mean       ┆ 2.266667 ┆ 4.5      ┆ 0.666667 ┆ null ┆ null ┆ null       │\n",
    "    │ std        ┆ 1.101514 ┆ 0.707107 ┆ 0.57735  ┆ null ┆ null ┆ null       │\n",
    "    │ min        ┆ 1.0      ┆ 4.0      ┆ 0.0      ┆ b    ┆ eur  ┆ 2020-01-01 │\n",
    "    │ max        ┆ 3.0      ┆ 5.0      ┆ 1.0      ┆ c    ┆ usd  ┆ 2022-01-01 │\n",
    "    │ median     ┆ 2.8      ┆ 4.5      ┆ 1.0      ┆ null ┆ null ┆ null       │\n",
    "    └────────────┴──────────┴──────────┴──────────┴──────┴──────┴────────────┘\n",
    "    \n",
    "    df: Dataframe to describe\n",
    "    \n",
    "    path_to_save: path to save the metric summary results in csv format;\n",
    "    \n",
    "    columns: Columns of dataframe to select\n",
    "    \n",
    "    e.g: metric_summary(df,columns=['b','c','e'],path_to_save='./metric_summary.csv')\n",
    "    \n",
    "    '''\n",
    "    \n",
    "    if type(columns) == list:\n",
    "        describe = df.describe()\n",
    "        describe = describe[columns].T\n",
    "    else:\n",
    "        describe = df.describe().T\n",
    "    \n",
    "    describe.to_csv(path_to_save) if path_to_save!= None else 0\n",
    "    \n",
    "    return describe\n",
    "\n",
    "def schema(df, path_to_save=None, show=True):\n",
    "    \n",
    "    '''\n",
    "    Function to print and save data schema in CSV or txt format.\n",
    "    \n",
    "    df: Dataframe\n",
    "    \n",
    "    path_to_save: path to save the schema results in csv format;\n",
    "    \n",
    "    show: To show the schema on stdout.\n",
    "    \n",
    "    '''\n",
    "    \n",
    "    textStream = StringIO()\n",
    "    df.info(show_counts=False, memory_usage=False, buf=textStream)\n",
    "    lst =textStream.getvalue()\n",
    "    #removing unnecessary info\n",
    "    trim_list = lst.split()[19:]\n",
    "    dump = []\n",
    "    for i in range(0,len(trim_list)-3, 3):\n",
    "        dump.append(trim_list[i] + ',' + trim_list[i+1] + ',' +  trim_list[i+2])\n",
    "    if path_to_save != None:\n",
    "        np.savetxt(path_to_save, dump, delimiter=\",\",fmt='%s')\n",
    "    else:\n",
    "        pass\n",
    "    if show==True:\n",
    "        df.info()\n",
    "    else:\n",
    "        pass\n",
    "    \n",
    "def datacard(df, path_to_save='Datacard_user.txt'):\n",
    "    with open(\"DataCard.txt\", \"r+\") as f:\n",
    "        old = f.read()\n",
    "    file_list = old.strip().split('\\n')\n",
    "    dt = datetime.now()\n",
    "    file_list[2] = file_list[2] + str(dt)\n",
    "    file_list[4] = file_list[4] + os.getlogin()\n",
    "    arr = []\n",
    "    for i in df.columns:\n",
    "        x = df.shape[0]\n",
    "        l = df[i].drop_duplicates().shape[0]\n",
    "        if x == l:\n",
    "            arr.append(i)\n",
    "        else:\n",
    "            2\n",
    "    if len(arr) == 0:\n",
    "        p_key = \"No primary key found\"\n",
    "    else:\n",
    "        p_key = \"Primary keys found: {arr}\".format(arr=arr)\n",
    "    \n",
    "    letters = string.ascii_lowercase\n",
    "    name = 'WOM' + ''.join(random.choice(letters) for i in range(5))\n",
    "    file_list[10] = file_list[10] + \"Dataset: {name} Shape: {shape} Size of dataset: {size}. {p_key}\".format(\n",
    "        name=name,\n",
    "        shape=str(df.shape),\n",
    "        size=str(df.size),\n",
    "        p_key = p_key\n",
    "    )\n",
    "    \n",
    "    file_list[14] = file_list[14] + '\\n'+ str(metric_summary(df))\n",
    "    with open(path_to_save, 'w') as f:\n",
    "        for line in file_list:\n",
    "            f.write(f\"{line}\\n\")"
   ]
  },
  {
   "cell_type": "code",
   "execution_count": 4,
   "id": "343c19ed-077e-430d-94db-3fdfa0b95c2c",
   "metadata": {},
   "outputs": [
    {
     "data": {
      "text/html": [
       "<div>\n",
       "<style scoped>\n",
       "    .dataframe tbody tr th:only-of-type {\n",
       "        vertical-align: middle;\n",
       "    }\n",
       "\n",
       "    .dataframe tbody tr th {\n",
       "        vertical-align: top;\n",
       "    }\n",
       "\n",
       "    .dataframe thead th {\n",
       "        text-align: right;\n",
       "    }\n",
       "</style>\n",
       "<table border=\"1\" class=\"dataframe\">\n",
       "  <thead>\n",
       "    <tr style=\"text-align: right;\">\n",
       "      <th></th>\n",
       "      <th>count</th>\n",
       "      <th>mean</th>\n",
       "      <th>std</th>\n",
       "      <th>min</th>\n",
       "      <th>25%</th>\n",
       "      <th>50%</th>\n",
       "      <th>75%</th>\n",
       "      <th>max</th>\n",
       "    </tr>\n",
       "  </thead>\n",
       "  <tbody>\n",
       "    <tr>\n",
       "      <th>income</th>\n",
       "      <td>1000000.0</td>\n",
       "      <td>0.578958</td>\n",
       "      <td>0.288226</td>\n",
       "      <td>0.1</td>\n",
       "      <td>0.3</td>\n",
       "      <td>0.6</td>\n",
       "      <td>0.8</td>\n",
       "      <td>0.9</td>\n",
       "    </tr>\n",
       "    <tr>\n",
       "      <th>customer_age</th>\n",
       "      <td>1000000.0</td>\n",
       "      <td>41.349480</td>\n",
       "      <td>13.751920</td>\n",
       "      <td>10.0</td>\n",
       "      <td>30.0</td>\n",
       "      <td>50.0</td>\n",
       "      <td>50.0</td>\n",
       "      <td>90.0</td>\n",
       "    </tr>\n",
       "    <tr>\n",
       "      <th>month</th>\n",
       "      <td>1000000.0</td>\n",
       "      <td>3.658708</td>\n",
       "      <td>2.116726</td>\n",
       "      <td>0.0</td>\n",
       "      <td>2.0</td>\n",
       "      <td>4.0</td>\n",
       "      <td>5.0</td>\n",
       "      <td>7.0</td>\n",
       "    </tr>\n",
       "  </tbody>\n",
       "</table>\n",
       "</div>"
      ],
      "text/plain": [
       "                  count       mean        std   min   25%   50%   75%   max\n",
       "income        1000000.0   0.578958   0.288226   0.1   0.3   0.6   0.8   0.9\n",
       "customer_age  1000000.0  41.349480  13.751920  10.0  30.0  50.0  50.0  90.0\n",
       "month         1000000.0   3.658708   2.116726   0.0   2.0   4.0   5.0   7.0"
      ]
     },
     "execution_count": 4,
     "metadata": {},
     "output_type": "execute_result"
    }
   ],
   "source": [
    "metric_summary(df,columns=['income','customer_age','month'],path_to_save='./metric_summary.csv')"
   ]
  },
  {
   "cell_type": "code",
   "execution_count": 7,
   "id": "aeb15cb8-7459-4b07-98a1-adf6e48ea4bc",
   "metadata": {},
   "outputs": [],
   "source": [
    "schema(df,path_to_save='schema.csv', show=0)"
   ]
  },
  {
   "cell_type": "code",
   "execution_count": 35,
   "id": "39f20d95-f46a-4e08-8998-daceecfb916d",
   "metadata": {},
   "outputs": [],
   "source": [
    "with open(\"DataCard.txt\", \"r+\") as f:\n",
    "     old = f.read() # read everything in the file\n",
    "     #f.seek(0) # rewind\n",
    "     #f.write(\"new line\\n\" + old) # write the new line before"
   ]
  },
  {
   "cell_type": "code",
   "execution_count": 36,
   "id": "63cfd6cf-948b-4efe-a0f1-f96f2660af30",
   "metadata": {},
   "outputs": [],
   "source": [
    "file_list = old.strip().split('\\n')"
   ]
  },
  {
   "cell_type": "code",
   "execution_count": 37,
   "id": "3534bd11-b25d-478d-81cb-b1db06c691d9",
   "metadata": {},
   "outputs": [
    {
     "data": {
      "text/plain": [
       "'2023-03-29 11:00:22.202507'"
      ]
     },
     "execution_count": 37,
     "metadata": {},
     "output_type": "execute_result"
    }
   ],
   "source": [
    "dt = datetime.now()\n",
    "\n",
    "# getting the timestamp\n",
    "ts = datetime.timestamp(dt)\n",
    "str(dt)"
   ]
  },
  {
   "cell_type": "code",
   "execution_count": 38,
   "id": "d4a74c98-ed50-4514-8629-0f87ef415208",
   "metadata": {},
   "outputs": [],
   "source": [
    "file_list[2] = file_list[2] + str(dt)"
   ]
  },
  {
   "cell_type": "code",
   "execution_count": 39,
   "id": "6b407d19-ecb3-4bbc-8451-56e586a00825",
   "metadata": {},
   "outputs": [
    {
     "data": {
      "text/plain": [
       "['DATA CARD',\n",
       " '',\n",
       " 'Timestamp:2023-03-29 11:00:22.202507',\n",
       " '',\n",
       " 'Data owner:Prashant',\n",
       " '',\n",
       " 'Data source:',\n",
       " '',\n",
       " 'Data refresh cycle:',\n",
       " '',\n",
       " 'Data details:',\n",
       " '',\n",
       " 'Intended use:',\n",
       " '',\n",
       " 'Data summary and metrices:',\n",
       " '',\n",
       " 'Ethical considerations:',\n",
       " '',\n",
       " 'Recommendations and Caveats:']"
      ]
     },
     "execution_count": 39,
     "metadata": {},
     "output_type": "execute_result"
    }
   ],
   "source": [
    "file_list[4] = file_list[4] + os.getlogin()\n",
    "file_list"
   ]
  },
  {
   "cell_type": "code",
   "execution_count": 42,
   "id": "5e2970eb-41ee-47a6-9ad5-a32984c419f1",
   "metadata": {},
   "outputs": [],
   "source": [
    "file_list[14] = file_list[14] + '\\n'+ str(metric_summary(df))"
   ]
  },
  {
   "cell_type": "code",
   "execution_count": 43,
   "id": "9ebf62b1-0905-4342-a193-b6e1ad3d416f",
   "metadata": {},
   "outputs": [],
   "source": [
    "with open('datacard_user.txt', 'w') as f:\n",
    "    for line in file_list:\n",
    "        f.write(f\"{line}\\n\")"
   ]
  },
  {
   "cell_type": "code",
   "execution_count": null,
   "id": "a1795188-0d75-439c-97a4-0811f705cc72",
   "metadata": {},
   "outputs": [],
   "source": [
    "arr = []\n",
    "for i in df.columns:\n",
    "    x = df.shape[0]\n",
    "    l = df[i].drop_duplicates().shape[0]\n",
    "    if x == l:\n",
    "        arr.append(i)\n",
    "    else:\n",
    "        2"
   ]
  },
  {
   "cell_type": "code",
   "execution_count": 50,
   "id": "08862057-34e6-45df-90db-00606cfe6093",
   "metadata": {},
   "outputs": [],
   "source": [
    "if len(arr) == 0:\n",
    "    p_key = \"No primary key found\"\n",
    "else:\n",
    "    p_key = \"Primary keys found: {arr}\".format(arr=arr)"
   ]
  },
  {
   "cell_type": "code",
   "execution_count": 84,
   "id": "4f769766-0f24-4b84-b6f4-d3b77bf8ec38",
   "metadata": {},
   "outputs": [],
   "source": [
    "file_list[10] = file_list[10] + \"Dataset: {name} Shape: {shape} Size of dataset: {size}. {p_key}\".format(name=name, shape=str(df.shape), size=str(df.size),p_key = p_key)"
   ]
  },
  {
   "cell_type": "code",
   "execution_count": 82,
   "id": "83a4ded9-94ec-4270-9069-c0055f97411a",
   "metadata": {},
   "outputs": [],
   "source": [
    "letters = string.ascii_lowercase\n",
    "name = 'WOM' + ''.join(random.choice(letters) for i in range(5))"
   ]
  },
  {
   "cell_type": "code",
   "execution_count": 83,
   "id": "e8df601e-c807-4767-b3d8-2f303861bda2",
   "metadata": {},
   "outputs": [
    {
     "data": {
      "text/plain": [
       "'WOMcnsea'"
      ]
     },
     "execution_count": 83,
     "metadata": {},
     "output_type": "execute_result"
    }
   ],
   "source": [
    "name"
   ]
  },
  {
   "cell_type": "code",
   "execution_count": 85,
   "id": "718c44c3-b5e0-4c4b-8eb5-913f1a5faa83",
   "metadata": {},
   "outputs": [
    {
     "data": {
      "text/plain": [
       "['DATA CARD',\n",
       " '',\n",
       " 'Timestamp:2023-03-29 11:00:22.202507',\n",
       " '',\n",
       " 'Data owner:Prashant',\n",
       " '',\n",
       " 'Data source:',\n",
       " '',\n",
       " 'Data refresh cycle:',\n",
       " '',\n",
       " 'Data details:\\nDataset: dummy \\nShape: (1000000, 34) \\nSize of dataset: 34000000 mb. No primary key found\\nDataset: dummy \\nShape: (1000000, 34) \\nSize of dataset: 34000000 mb. No primary key foundDataset: dummy Shape: (1000000, 34) Size of dataset: 34000000 mb. No primary key foundDataset: WOMcnsea Shape: (1000000, 34) Size of dataset: 34000000. No primary key found',\n",
       " '',\n",
       " 'Intended use:',\n",
       " '',\n",
       " 'Data summary and metrices:\\n                                      count         mean          std  \\\\\\nfraud_bool                        1000000.0     0.011030     0.104443   \\nincome                            1000000.0     0.578958     0.288226   \\nname_email_similarity             1000000.0     0.487527     0.291367   \\nprev_address_months_count         1000000.0    14.744036    43.134138   \\ncurrent_address_months_count      1000000.0    99.187295    94.070293   \\ncustomer_age                      1000000.0    41.349480    13.751920   \\ndays_since_request                1000000.0     0.916476     5.068976   \\nintended_balcon_amount            1000000.0     8.571482    20.544640   \\nzip_count_4w                      1000000.0  1517.471615   965.945989   \\nvelocity_6h                       1000000.0  5490.939853  2940.124992   \\nvelocity_24h                      1000000.0  4661.530105  1450.442084   \\nvelocity_4w                       1000000.0  4733.511963   870.556097   \\nbank_branch_count_8w              1000000.0   201.084771   473.738222   \\ndate_of_birth_distinct_emails_4w  1000000.0     7.772255     4.815409   \\ncredit_risk_score                 1000000.0   139.295998    71.428176   \\nemail_is_free                     1000000.0     0.518255     0.499667   \\nphone_home_valid                  1000000.0     0.493744     0.499961   \\nphone_mobile_valid                1000000.0     0.857586     0.349474   \\nbank_months_count                 1000000.0    11.139313    12.124117   \\nhas_other_cards                   1000000.0     0.248917     0.432386   \\nproposed_credit_limit             1000000.0   551.037350   506.530093   \\nforeign_request                   1000000.0     0.023991     0.153021   \\nsession_length_in_minutes         1000000.0     7.817692     8.259055   \\nkeep_alive_session                1000000.0     0.556301     0.496820   \\ndevice_distinct_emails_8w         1000000.0     1.022276     0.192862   \\ndevice_fraud_count                1000000.0     0.000000     0.000000   \\nmonth                             1000000.0     3.658708     2.116726   \\nx1                                1000000.0     0.010499     1.010044   \\nx2                                1000000.0     0.008503     1.009068   \\n\\n                                           min          25%          50%  \\\\\\nfraud_bool                        0.000000e+00     0.000000     0.000000   \\nincome                            1.000000e-01     0.300000     0.600000   \\nname_email_similarity             7.898994e-07     0.214529     0.485893   \\nprev_address_months_count        -1.000000e+00    -1.000000    -1.000000   \\ncurrent_address_months_count     -1.000000e+00    27.000000    64.000000   \\ncustomer_age                      1.000000e+01    30.000000    50.000000   \\ndays_since_request                1.414624e-07     0.007451     0.015673   \\nintended_balcon_amount           -1.571046e+01    -1.178938    -0.833821   \\nzip_count_4w                      1.000000e+00   885.000000  1208.000000   \\nvelocity_6h                      -1.436497e+02  3332.981127  5190.722819   \\nvelocity_24h                      1.297721e+03  3505.061781  4641.570668   \\nvelocity_4w                       2.858746e+03  4238.377282  4813.951362   \\nbank_branch_count_8w              0.000000e+00     1.000000    10.000000   \\ndate_of_birth_distinct_emails_4w  0.000000e+00     4.000000     7.000000   \\ncredit_risk_score                -1.770000e+02    90.000000   130.000000   \\nemail_is_free                     0.000000e+00     0.000000     1.000000   \\nphone_home_valid                  0.000000e+00     0.000000     0.000000   \\nphone_mobile_valid                0.000000e+00     1.000000     1.000000   \\nbank_months_count                -1.000000e+00     1.000000     6.000000   \\nhas_other_cards                   0.000000e+00     0.000000     0.000000   \\nproposed_credit_limit             1.900000e+02   200.000000   200.000000   \\nforeign_request                   0.000000e+00     0.000000     0.000000   \\nsession_length_in_minutes        -1.000000e+00     3.151601     5.246432   \\nkeep_alive_session                0.000000e+00     0.000000     1.000000   \\ndevice_distinct_emails_8w        -1.000000e+00     1.000000     1.000000   \\ndevice_fraud_count                0.000000e+00     0.000000     0.000000   \\nmonth                             0.000000e+00     2.000000     4.000000   \\nx1                               -4.977864e+00    -0.669626     0.005114   \\nx2                               -4.846414e+00    -0.670979     0.003902   \\n\\n                                          75%           max  \\nfraud_bool                           0.000000      1.000000  \\nincome                               0.800000      0.900000  \\nname_email_similarity                0.754531      1.000000  \\nprev_address_months_count           -1.000000    384.000000  \\ncurrent_address_months_count       154.000000    426.000000  \\ncustomer_age                        50.000000     90.000000  \\ndays_since_request                   0.026988     77.845545  \\nintended_balcon_amount              -0.052483    113.086228  \\nzip_count_4w                      1846.000000   6830.000000  \\nvelocity_6h                       7371.559084  16802.052304  \\nvelocity_24h                      5593.342744   9585.100782  \\nvelocity_4w                       5331.503654   7019.201030  \\nbank_branch_count_8w                31.000000   2404.000000  \\ndate_of_birth_distinct_emails_4w    11.000000     37.000000  \\ncredit_risk_score                  188.000000    388.000000  \\nemail_is_free                        1.000000      1.000000  \\nphone_home_valid                     1.000000      1.000000  \\nphone_mobile_valid                   1.000000      1.000000  \\nbank_months_count                   25.000000     32.000000  \\nhas_other_cards                      0.000000      1.000000  \\nproposed_credit_limit             1000.000000   2100.000000  \\nforeign_request                      0.000000      1.000000  \\nsession_length_in_minutes            9.362126     83.213536  \\nkeep_alive_session                   1.000000      1.000000  \\ndevice_distinct_emails_8w            1.000000      2.000000  \\ndevice_fraud_count                   0.000000      0.000000  \\nmonth                                5.000000      7.000000  \\nx1                                   0.683212      6.434867  \\nx2                                   0.680875      6.542492  ',\n",
       " '',\n",
       " 'Ethical considerations:',\n",
       " '',\n",
       " 'Recommendations and Caveats:']"
      ]
     },
     "execution_count": 85,
     "metadata": {},
     "output_type": "execute_result"
    }
   ],
   "source": [
    "file_list"
   ]
  },
  {
   "cell_type": "code",
   "execution_count": 65,
   "id": "cd7aae10-4d67-43e1-af0f-5a44c069cef7",
   "metadata": {},
   "outputs": [
    {
     "data": {
      "text/plain": [
       "'C:\\\\Users\\\\Prashant\\\\Desktop\\\\wombat'"
      ]
     },
     "execution_count": 65,
     "metadata": {},
     "output_type": "execute_result"
    }
   ],
   "source": [
    "os.getcwd()"
   ]
  },
  {
   "cell_type": "code",
   "execution_count": 66,
   "id": "cb711399-d086-432a-829c-d8db1caa70a1",
   "metadata": {},
   "outputs": [
    {
     "name": "stdout",
     "output_type": "stream",
     "text": [
      "<class 'pandas.core.frame.DataFrame'>\n",
      "RangeIndex: 1000000 entries, 0 to 999999\n",
      "Data columns (total 34 columns):\n",
      " #   Column                            Non-Null Count    Dtype  \n",
      "---  ------                            --------------    -----  \n",
      " 0   fraud_bool                        1000000 non-null  int64  \n",
      " 1   income                            1000000 non-null  float64\n",
      " 2   name_email_similarity             1000000 non-null  float64\n",
      " 3   prev_address_months_count         1000000 non-null  int64  \n",
      " 4   current_address_months_count      1000000 non-null  int64  \n",
      " 5   customer_age                      1000000 non-null  int64  \n",
      " 6   days_since_request                1000000 non-null  float64\n",
      " 7   intended_balcon_amount            1000000 non-null  float64\n",
      " 8   payment_type                      1000000 non-null  object \n",
      " 9   zip_count_4w                      1000000 non-null  int64  \n",
      " 10  velocity_6h                       1000000 non-null  float64\n",
      " 11  velocity_24h                      1000000 non-null  float64\n",
      " 12  velocity_4w                       1000000 non-null  float64\n",
      " 13  bank_branch_count_8w              1000000 non-null  int64  \n",
      " 14  date_of_birth_distinct_emails_4w  1000000 non-null  int64  \n",
      " 15  employment_status                 1000000 non-null  object \n",
      " 16  credit_risk_score                 1000000 non-null  int64  \n",
      " 17  email_is_free                     1000000 non-null  int64  \n",
      " 18  housing_status                    1000000 non-null  object \n",
      " 19  phone_home_valid                  1000000 non-null  int64  \n",
      " 20  phone_mobile_valid                1000000 non-null  int64  \n",
      " 21  bank_months_count                 1000000 non-null  int64  \n",
      " 22  has_other_cards                   1000000 non-null  int64  \n",
      " 23  proposed_credit_limit             1000000 non-null  float64\n",
      " 24  foreign_request                   1000000 non-null  int64  \n",
      " 25  source                            1000000 non-null  object \n",
      " 26  session_length_in_minutes         1000000 non-null  float64\n",
      " 27  device_os                         1000000 non-null  object \n",
      " 28  keep_alive_session                1000000 non-null  int64  \n",
      " 29  device_distinct_emails_8w         1000000 non-null  int64  \n",
      " 30  device_fraud_count                1000000 non-null  int64  \n",
      " 31  month                             1000000 non-null  int64  \n",
      " 32  x1                                1000000 non-null  float64\n",
      " 33  x2                                1000000 non-null  float64\n",
      "dtypes: float64(11), int64(18), object(5)\n",
      "memory usage: 259.4+ MB\n"
     ]
    }
   ],
   "source": [
    "df.info()"
   ]
  },
  {
   "cell_type": "code",
   "execution_count": 87,
   "id": "933a1c92-d42b-4ee6-a566-2e39ab9c5036",
   "metadata": {},
   "outputs": [],
   "source": [
    "datacard(df, 'hippty.txt')"
   ]
  },
  {
   "cell_type": "code",
   "execution_count": null,
   "id": "87dae307-2cbe-4837-acb9-8d4da6b00e28",
   "metadata": {},
   "outputs": [],
   "source": []
  }
 ],
 "metadata": {
  "kernelspec": {
   "display_name": "Python 3 (ipykernel)",
   "language": "python",
   "name": "python3"
  },
  "language_info": {
   "codemirror_mode": {
    "name": "ipython",
    "version": 3
   },
   "file_extension": ".py",
   "mimetype": "text/x-python",
   "name": "python",
   "nbconvert_exporter": "python",
   "pygments_lexer": "ipython3",
   "version": "3.8.15"
  }
 },
 "nbformat": 4,
 "nbformat_minor": 5
}
