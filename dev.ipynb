{
 "cells": [
  {
   "cell_type": "code",
   "execution_count": 1,
   "id": "b25a552c-6c92-4274-9de7-475a7975a894",
   "metadata": {},
   "outputs": [],
   "source": [
    "import numpy as np\n",
    "import pandas as pd\n",
    "import polars as pl"
   ]
  },
  {
   "cell_type": "code",
   "execution_count": 13,
   "id": "20d53300-5966-4e02-a496-193a345736ce",
   "metadata": {},
   "outputs": [],
   "source": [
    "df = pd.read_csv('variant_v.csv')\n",
    "df1 = pd.read_csv('base.csv')"
   ]
  },
  {
   "cell_type": "code",
   "execution_count": 51,
   "id": "cdca2e9b-f354-413a-afa5-aabedd86fb34",
   "metadata": {},
   "outputs": [],
   "source": [
    "df_pl = pl.read_csv(\"variant_v.csv\")\n"
   ]
  },
  {
   "cell_type": "code",
   "execution_count": 74,
   "id": "4d2f5712-444c-4f39-b83f-409bc1e65839",
   "metadata": {},
   "outputs": [],
   "source": [
    "def ingest(path,has_header=True, columns=None):\n",
    "    '''\n",
    "    Reads a file into a Dataframe\n",
    "    \n",
    "    path: Path to a file or a file-like object.\n",
    "    By file-like object, we refer to objects with a ``read()``\n",
    "    method\n",
    "    \n",
    "    has_header: Indicate if the first row of dataset is a header or not.\n",
    "    \n",
    "    '''\n",
    "    try:\n",
    "        df = pl.read_csv(path,has_header,columns)\n",
    "        shape = df.shape\n",
    "        if shape[0] == 0:\n",
    "            print(\"Empty Dataframe with (0,0) entries\")\n",
    "        else:\n",
    "            return df\n",
    "            \n",
    "    except FileNotFoundError:\n",
    "        print(\"No such file or directory: \" + \"{}\".format(path))\n",
    "        \n",
    "def metric_summary(df, path_to_save=None, columns=None):\n",
    "    '''\n",
    "    Summarizes metrics of a dataframe:\n",
    "    Count, Null count, mean, median, min, max, std\n",
    "    >>> df.describe()\n",
    "    shape: (7, 7)\n",
    "    ┌────────────┬──────────┬──────────┬──────────┬──────┬──────┬────────────┐\n",
    "    │ describe   ┆ a        ┆ b        ┆ c        ┆ d    ┆ e    ┆ f          │\n",
    "    │ ---        ┆ ---      ┆ ---      ┆ ---      ┆ ---  ┆ ---  ┆ ---        │\n",
    "    │ str        ┆ f64      ┆ f64      ┆ f64      ┆ str  ┆ str  ┆ str        │\n",
    "    ╞════════════╪══════════╪══════════╪══════════╪══════╪══════╪════════════╡\n",
    "    │ count      ┆ 3.0      ┆ 3.0      ┆ 3.0      ┆ 3    ┆ 3    ┆ 3          │\n",
    "    │ null_count ┆ 0.0      ┆ 1.0      ┆ 0.0      ┆ 1    ┆ 1    ┆ 0          │\n",
    "    │ mean       ┆ 2.266667 ┆ 4.5      ┆ 0.666667 ┆ null ┆ null ┆ null       │\n",
    "    │ std        ┆ 1.101514 ┆ 0.707107 ┆ 0.57735  ┆ null ┆ null ┆ null       │\n",
    "    │ min        ┆ 1.0      ┆ 4.0      ┆ 0.0      ┆ b    ┆ eur  ┆ 2020-01-01 │\n",
    "    │ max        ┆ 3.0      ┆ 5.0      ┆ 1.0      ┆ c    ┆ usd  ┆ 2022-01-01 │\n",
    "    │ median     ┆ 2.8      ┆ 4.5      ┆ 1.0      ┆ null ┆ null ┆ null       │\n",
    "    └────────────┴──────────┴──────────┴──────────┴──────┴──────┴────────────┘\n",
    "    '''\n",
    "    \n",
    "    if type(columns) == list:\n",
    "        df = df.describe()\n",
    "        metric_df = pl.concat(\n",
    "            [\n",
    "                df.select(['describe']),\n",
    "                df.select(columns)\n",
    "            ], \n",
    "            how=\"horizontal\")\n",
    "        \n",
    "    else:\n",
    "        metric_df = df.describe()\n",
    "    \n",
    "    try:\n",
    "    metric_df.write_csv(path_to_save) if path_to_save!=\n",
    "    return metric_df\n",
    "    \n",
    "    \n",
    "    "
   ]
  },
  {
   "cell_type": "code",
   "execution_count": null,
   "id": "81022a7d-1b33-45f7-b14f-d1d4d03dc2d3",
   "metadata": {},
   "outputs": [],
   "source": [
    "df = ingest(\"variant_v.csv\")"
   ]
  },
  {
   "cell_type": "code",
   "execution_count": 69,
   "id": "343c19ed-077e-430d-94db-3fdfa0b95c2c",
   "metadata": {},
   "outputs": [],
   "source": [
    "metric_summary(df,columns=['income','customer_age','month'])"
   ]
  },
  {
   "cell_type": "code",
   "execution_count": null,
   "id": "18fc8b39-a94a-4d60-8d37-9b79b1806ca0",
   "metadata": {},
   "outputs": [],
   "source": []
  },
  {
   "cell_type": "code",
   "execution_count": null,
   "id": "e3e5a385-807e-4c0f-b2f2-9551911af73d",
   "metadata": {},
   "outputs": [],
   "source": []
  },
  {
   "cell_type": "code",
   "execution_count": null,
   "id": "50b05595-a8c2-4db2-842a-1ce6317fe59f",
   "metadata": {},
   "outputs": [],
   "source": []
  },
  {
   "cell_type": "code",
   "execution_count": null,
   "id": "0b77c74c-7a3c-461e-a8ce-0bc88e19ab40",
   "metadata": {},
   "outputs": [],
   "source": []
  },
  {
   "cell_type": "code",
   "execution_count": null,
   "id": "2fed803f-ab30-4c66-a8d6-3c943a86bc2e",
   "metadata": {},
   "outputs": [],
   "source": []
  },
  {
   "cell_type": "code",
   "execution_count": null,
   "id": "2d2e8841-a050-40f4-a9cd-ca4b6486bc39",
   "metadata": {},
   "outputs": [],
   "source": []
  }
 ],
 "metadata": {
  "kernelspec": {
   "display_name": "Python 3 (ipykernel)",
   "language": "python",
   "name": "python3"
  },
  "language_info": {
   "codemirror_mode": {
    "name": "ipython",
    "version": 3
   },
   "file_extension": ".py",
   "mimetype": "text/x-python",
   "name": "python",
   "nbconvert_exporter": "python",
   "pygments_lexer": "ipython3",
   "version": "3.8.15"
  }
 },
 "nbformat": 4,
 "nbformat_minor": 5
}
