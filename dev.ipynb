{
 "cells": [
  {
   "cell_type": "code",
   "execution_count": 4,
   "id": "b25a552c-6c92-4274-9de7-475a7975a894",
   "metadata": {},
   "outputs": [],
   "source": [
    "import numpy as np\n",
    "import pandas as pd\n",
    "import polars as pl"
   ]
  },
  {
   "cell_type": "code",
   "execution_count": 13,
   "id": "20d53300-5966-4e02-a496-193a345736ce",
   "metadata": {},
   "outputs": [],
   "source": [
    "df = pd.read_csv('variant_v.csv')\n",
    "df1 = pd.read_csv('base.csv')"
   ]
  },
  {
   "cell_type": "code",
   "execution_count": 51,
   "id": "cdca2e9b-f354-413a-afa5-aabedd86fb34",
   "metadata": {},
   "outputs": [],
   "source": [
    "df_pl = pl.read_csv(\"variant_v.csv\")\n"
   ]
  },
  {
   "cell_type": "code",
   "execution_count": 65,
   "id": "4d2f5712-444c-4f39-b83f-409bc1e65839",
   "metadata": {},
   "outputs": [],
   "source": [
    "def ingest(path,has_header=True, columns=None):\n",
    "    '''\n",
    "    Reads a file into a Dataframe\n",
    "    \n",
    "    path: Path to a file or a file-like object.\n",
    "    By file-like object, we refer to objects with a ``read()``\n",
    "    method\n",
    "    \n",
    "    has_header: Indicate if the first row of dataset is a header or not.\n",
    "    \n",
    "    '''\n",
    "    try:\n",
    "        df = pl.read_csv(path,has_header,columns)\n",
    "        shape = df.shape\n",
    "        if shape[0] == 0:\n",
    "            print(\"Empty Dataframe with (0,0) entries\")\n",
    "        else:\n",
    "            return df\n",
    "            \n",
    "    except FileNotFoundError:\n",
    "        print(\"No such file or directory: \" + \"{}\".format(path))\n",
    "        \n",
    "def metric_summary(df, path_to_save=None):\n",
    "    \n",
    "    "
   ]
  },
  {
   "cell_type": "code",
   "execution_count": 75,
   "id": "343c19ed-077e-430d-94db-3fdfa0b95c2c",
   "metadata": {},
   "outputs": [
    {
     "ename": "AttributeError",
     "evalue": "'DataFrame' object has no attribute 'summary'",
     "output_type": "error",
     "traceback": [
      "\u001b[1;31m---------------------------------------------------------------------------\u001b[0m",
      "\u001b[1;31mAttributeError\u001b[0m                            Traceback (most recent call last)",
      "Cell \u001b[1;32mIn[75], line 2\u001b[0m\n\u001b[0;32m      1\u001b[0m df \u001b[38;5;241m=\u001b[39m ingest(\u001b[38;5;124m\"\u001b[39m\u001b[38;5;124mvariant_v.csv\u001b[39m\u001b[38;5;124m\"\u001b[39m)\n\u001b[1;32m----> 2\u001b[0m \u001b[43mdf\u001b[49m\u001b[38;5;241;43m.\u001b[39;49m\u001b[43msummary\u001b[49m()\n",
      "\u001b[1;31mAttributeError\u001b[0m: 'DataFrame' object has no attribute 'summary'"
     ]
    }
   ],
   "source": [
    "df = ingest(\"variant_v.csv\")\n",
    "df"
   ]
  },
  {
   "cell_type": "code",
   "execution_count": 12,
   "id": "18fc8b39-a94a-4d60-8d37-9b79b1806ca0",
   "metadata": {},
   "outputs": [],
   "source": []
  },
  {
   "cell_type": "code",
   "execution_count": null,
   "id": "e3e5a385-807e-4c0f-b2f2-9551911af73d",
   "metadata": {},
   "outputs": [],
   "source": []
  }
 ],
 "metadata": {
  "kernelspec": {
   "display_name": "Python 3 (ipykernel)",
   "language": "python",
   "name": "python3"
  },
  "language_info": {
   "codemirror_mode": {
    "name": "ipython",
    "version": 3
   },
   "file_extension": ".py",
   "mimetype": "text/x-python",
   "name": "python",
   "nbconvert_exporter": "python",
   "pygments_lexer": "ipython3",
   "version": "3.8.15"
  }
 },
 "nbformat": 4,
 "nbformat_minor": 5
}
