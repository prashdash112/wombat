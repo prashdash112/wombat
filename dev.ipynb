{
 "cells": [
  {
   "cell_type": "code",
   "execution_count": 1,
   "id": "b25a552c-6c92-4274-9de7-475a7975a894",
   "metadata": {},
   "outputs": [],
   "source": [
    "import numpy as np\n",
    "import pandas as pd\n",
    "import polars as pl\n",
    "import matplotlib.pyplot as plt\n",
    "import seaborn as sns\n",
    "import pyarrow\n",
    "from ydata_profiling import ProfileReport\n",
    "from io import StringIO\n",
    "from datetime import datetime\n",
    "import os\n",
    "from ast import literal_eval\n",
    "import random\n",
    "import string\n",
    "import hashlib\n",
    "import os\n",
    "from pyhtml2pdf import converter\n"
   ]
  },
  {
   "cell_type": "code",
   "execution_count": 2,
   "id": "20d53300-5966-4e02-a496-193a345736ce",
   "metadata": {},
   "outputs": [],
   "source": [
    "df = pd.read_csv('variant_v.csv')\n",
    "df1 = pd.read_csv('base.csv')"
   ]
  },
  {
   "cell_type": "code",
   "execution_count": 3,
   "id": "4d2f5712-444c-4f39-b83f-409bc1e65839",
   "metadata": {},
   "outputs": [],
   "source": [
    "def metric_summary(df, path_to_save=None, columns=None):\n",
    "    '''\n",
    "    Summarizes metrics of a dataframe:\n",
    "    \n",
    "    >>> from datetime import date\n",
    "    >>> df = pd.DataFrame(\n",
    "    ...     {\n",
    "    ...         \"a\": [1.0, 2.8, 3.0],\n",
    "    ...         \"b\": [4, 5, None],\n",
    "    ...         \"c\": [True, False, True],\n",
    "    ...         \"d\": [None, \"b\", \"c\"],\n",
    "    ...         \"e\": [\"usd\", \"eur\", None],\n",
    "    ...         \"f\": [date(2020, 1, 1), date(2021, 1, 1), date(2022, 1, 1)],\n",
    "    ...     }\n",
    "    ... )\n",
    "    \n",
    "    >>> metric_summary(df)\n",
    "    shape: (7, 7)\n",
    "    ┌────────────┬──────────┬──────────┬──────────┬──────┬──────┬────────────┐\n",
    "    │ describe   ┆ a        ┆ b        ┆ c        ┆ d    ┆ e    ┆ f          │\n",
    "    │ ---        ┆ ---      ┆ ---      ┆ ---      ┆ ---  ┆ ---  ┆ ---        │\n",
    "    │ str        ┆ f64      ┆ f64      ┆ f64      ┆ str  ┆ str  ┆ str        │\n",
    "    ╞════════════╪══════════╪══════════╪══════════╪══════╪══════╪════════════╡\n",
    "    │ count      ┆ 3.0      ┆ 3.0      ┆ 3.0      ┆ 3    ┆ 3    ┆ 3          │\n",
    "    │ null_count ┆ 0.0      ┆ 1.0      ┆ 0.0      ┆ 1    ┆ 1    ┆ 0          │\n",
    "    │ mean       ┆ 2.266667 ┆ 4.5      ┆ 0.666667 ┆ null ┆ null ┆ null       │\n",
    "    │ std        ┆ 1.101514 ┆ 0.707107 ┆ 0.57735  ┆ null ┆ null ┆ null       │\n",
    "    │ min        ┆ 1.0      ┆ 4.0      ┆ 0.0      ┆ b    ┆ eur  ┆ 2020-01-01 │\n",
    "    │ max        ┆ 3.0      ┆ 5.0      ┆ 1.0      ┆ c    ┆ usd  ┆ 2022-01-01 │\n",
    "    │ median     ┆ 2.8      ┆ 4.5      ┆ 1.0      ┆ null ┆ null ┆ null       │\n",
    "    └────────────┴──────────┴──────────┴──────────┴──────┴──────┴────────────┘\n",
    "    \n",
    "    df: Dataframe to describe\n",
    "    \n",
    "    path_to_save: path to save the metric summary results in csv format;\n",
    "    \n",
    "    columns: Columns of dataframe to select\n",
    "    \n",
    "    e.g: metric_summary(df,columns=['b','c','e'],path_to_save='./metric_summary.csv')\n",
    "    \n",
    "    '''\n",
    "    \n",
    "    if type(columns) == list:\n",
    "        describe = df.describe()\n",
    "        describe = describe[columns].T\n",
    "    else:\n",
    "        describe = df.describe().T\n",
    "    \n",
    "    describe.to_csv(path_to_save) if path_to_save!= None else 0\n",
    "    \n",
    "    return describe\n",
    "\n",
    "def schema(df, path_to_save=None, show=True):\n",
    "    '''\n",
    "    Function to print and save data schema in CSV or txt format.\n",
    "    \n",
    "    df: Dataframe\n",
    "    \n",
    "    path_to_save: path to save the schema results in csv format;\n",
    "    \n",
    "    show: To show the schema on stdout.\n",
    "    \n",
    "    '''\n",
    "    \n",
    "    textStream = StringIO()\n",
    "    df.info(show_counts=False, memory_usage=False, buf=textStream)\n",
    "    lst =textStream.getvalue()\n",
    "    #removing unnecessary info\n",
    "    trim_list = lst.split()[19:]\n",
    "    dump = []\n",
    "    for i in range(0,len(trim_list)-3, 3):\n",
    "        dump.append(trim_list[i] + ',' + trim_list[i+1] + ',' +  trim_list[i+2])\n",
    "    if path_to_save != None:\n",
    "        np.savetxt(path_to_save, dump, delimiter=\",\",fmt='%s')\n",
    "    else:\n",
    "        pass\n",
    "    if show==True:\n",
    "        df.info()\n",
    "    else:\n",
    "        pass\n",
    "    \n",
    "def datacard(df, path_to_save='Datacard_user.txt'):\n",
    "    '''\n",
    "    Function to create datacard of a dataset\n",
    "    \n",
    "    df: pandas dataframe for which user wants to generate a data card\n",
    "    \n",
    "    path_to_save: user-specific location of data card txt file. \n",
    "                  Defaulted to current working directory.\n",
    "    '''\n",
    "    with open(\"DataCard.txt\", \"r+\") as f:\n",
    "        old = f.read()\n",
    "    file_list = old.strip().split('\\n')\n",
    "    dt = datetime.now()\n",
    "    file_list[2] = file_list[2] + str(dt)\n",
    "    file_list[4] = file_list[4] + os.getlogin()\n",
    "    arr = []\n",
    "    for i in df.columns:\n",
    "        x = df.shape[0]\n",
    "        l = df[i].drop_duplicates().shape[0]\n",
    "        if x == l:\n",
    "            arr.append(i)\n",
    "        else:\n",
    "            2\n",
    "    if len(arr) == 0:\n",
    "        p_key = \"No primary key found\"\n",
    "    else:\n",
    "        p_key = \"Primary keys found: {arr}\".format(arr=arr)\n",
    "    letters = string.ascii_lowercase\n",
    "    name = 'WOM' + ''.join(random.choice(letters) for i in range(5))\n",
    "    file_list[10] = file_list[10] + \"Dataset: {name} Shape: {shape} Size of dataset: {size}. {p_key}\".format(\n",
    "        name=name,\n",
    "        shape=str(df.shape),\n",
    "        size=str(df.size),\n",
    "        p_key = p_key\n",
    "    )\n",
    "    file_list[14] = file_list[14] + '\\n'+ str(metric_summary(df))\n",
    "    with open(path_to_save, 'w') as f:\n",
    "        for line in file_list:\n",
    "            f.write(f\"{line}\\n\")\n",
    "    return 'Datacard created at location: {loc}'.format(loc=path_to_save)\n",
    "\n",
    "def version(df, file_name, folder_path=None, unique_identifier=None):\n",
    "    '''\n",
    "    Version function to version small to medium datasets locally. \n",
    "    \n",
    "    df: Pandas dataframe to version locally\n",
    "    \n",
    "    file_name: Name of the data file\n",
    "    \n",
    "    folder_path: Path of the local repository\n",
    "    \n",
    "    User can version the dataset(df) with a filename(file_name) under a initialized repo(folder_path).\n",
    "    Version function generates hash for dataset.describe method and uses it to distinguish between different datasets.\n",
    "    \n",
    "    file_name is used to distinguish between different types of datasets instead of different versions.\n",
    "    \n",
    "    Function generates an empty hash txt file along with the copy of dataset named \n",
    "    'WOM'+last_8_hash_keys+_latest(identifier of the latest file in sequence)  \n",
    "    \n",
    "    e.g: version(df.head(10), file_name='dataset_name', folder_path = '../local_repo_user')\n",
    "    \n",
    "    Returns:\n",
    "    \n",
    "    DIR_NAME: ../local_repo_user/local_repo/dataset_name/WOMe65329e0.csv\n",
    "    HASH_KEY: d6c6d0409cdbf3bed8a255fde92fc8f1e65329e0'\n",
    "    \n",
    "    Current_status:\n",
    "    Versions dataframe in CSV format only.\n",
    "    \n",
    "    '''\n",
    "    \n",
    "    df_describe_str = str(df.describe)\n",
    "    hash_ = hashlib.sha1(df_describe_str.encode('utf-8'))\n",
    "    \n",
    "    if folder_path == None:\n",
    "        dr = os.getcwd() + '/' + 'local_repo' + '/' + file_name \n",
    "    else:\n",
    "        dr = folder_path + '/' + 'local_repo' + '/' + file_name\n",
    "    \n",
    "    if not os.path.exists(dr):\n",
    "        os.makedirs(dr)\n",
    "    \n",
    "    if unique_identifier !=None:\n",
    "        unique_identifier = unique_identifier\n",
    "    else:\n",
    "        unique_identifier = ''\n",
    "    \n",
    "    letters = string.ascii_lowercase\n",
    "    name = 'WOM'+ hash_.hexdigest()[32:41] +'_'+ unique_identifier + '_latest' + '.csv'\n",
    "    name_txt_path = dr + '/'+ hash_.hexdigest() + '.txt'\n",
    "    \n",
    "    files = os.listdir(path=dr)\n",
    "    if len(files) != 0:\n",
    "        for i in files:\n",
    "            if i[-3:] == 'csv' and '_latest' in i:\n",
    "                new_name=i.replace('_latest','')\n",
    "                if new_name in files:\n",
    "                    os.replace(src=dr+'/'+i, dst=dr+'/'+new_name)\n",
    "                else:\n",
    "                    os.rename(src=dr+'/'+i, dst=dr+'/'+new_name)\n",
    "            else:\n",
    "                pass\n",
    "    else:\n",
    "        pass\n",
    "    \n",
    "    with open(name_txt_path, 'w') as fp:\n",
    "        pass\n",
    "    \n",
    "    df.to_csv(path_or_buf=dr+'/'+name)\n",
    "    print('DIR_NAME: ' + dr+'/'+name)\n",
    "    \n",
    "    return 'HASH_KEY: '+ hash_.hexdigest()\n",
    "\n",
    "def generate_report(df, path_to_save='Data_Profile_Report.html', pdf=False):\n",
    "    '''\n",
    "    generate_report function generates the report of an dataframe using ydata profiling capabilities \n",
    "    and stores it at path_to_save location.\n",
    "    \n",
    "    \n",
    "    df: Pandas dataframe\n",
    "    \n",
    "    path_to_save: user specific location of the report \n",
    "    \n",
    "    pdf: Generates PDF of the report.\n",
    "    Type: Boolean True or False\n",
    "    \n",
    "    e.g: generate_report(df=df.head(10), path_to_save='../Data_Profile_Report.html', pdf=True)\n",
    "    \n",
    "    Note: Report can be saved in HTML,JSON and PDF formats.\n",
    "    '''\n",
    "    \n",
    "    profile = ProfileReport(df=df, minimal=True)\n",
    "    profile.to_file(path_to_save)\n",
    "    \n",
    "    if pdf==True:\n",
    "        path = os.path.abspath(path_to_save)\n",
    "        converter.convert(source=path, target=path_to_save[:-4]+'pdf', power=4 )\n",
    "    else:\n",
    "        pass\n",
    "    \n",
    "    return 'Report is saved at location:-' + path_to_save"
   ]
  },
  {
   "cell_type": "code",
   "execution_count": 4,
   "id": "343c19ed-077e-430d-94db-3fdfa0b95c2c",
   "metadata": {},
   "outputs": [
    {
     "data": {
      "text/html": [
       "<div>\n",
       "<style scoped>\n",
       "    .dataframe tbody tr th:only-of-type {\n",
       "        vertical-align: middle;\n",
       "    }\n",
       "\n",
       "    .dataframe tbody tr th {\n",
       "        vertical-align: top;\n",
       "    }\n",
       "\n",
       "    .dataframe thead th {\n",
       "        text-align: right;\n",
       "    }\n",
       "</style>\n",
       "<table border=\"1\" class=\"dataframe\">\n",
       "  <thead>\n",
       "    <tr style=\"text-align: right;\">\n",
       "      <th></th>\n",
       "      <th>count</th>\n",
       "      <th>mean</th>\n",
       "      <th>std</th>\n",
       "      <th>min</th>\n",
       "      <th>25%</th>\n",
       "      <th>50%</th>\n",
       "      <th>75%</th>\n",
       "      <th>max</th>\n",
       "    </tr>\n",
       "  </thead>\n",
       "  <tbody>\n",
       "    <tr>\n",
       "      <th>income</th>\n",
       "      <td>1000000.0</td>\n",
       "      <td>0.578958</td>\n",
       "      <td>0.288226</td>\n",
       "      <td>0.1</td>\n",
       "      <td>0.3</td>\n",
       "      <td>0.6</td>\n",
       "      <td>0.8</td>\n",
       "      <td>0.9</td>\n",
       "    </tr>\n",
       "    <tr>\n",
       "      <th>customer_age</th>\n",
       "      <td>1000000.0</td>\n",
       "      <td>41.349480</td>\n",
       "      <td>13.751920</td>\n",
       "      <td>10.0</td>\n",
       "      <td>30.0</td>\n",
       "      <td>50.0</td>\n",
       "      <td>50.0</td>\n",
       "      <td>90.0</td>\n",
       "    </tr>\n",
       "    <tr>\n",
       "      <th>month</th>\n",
       "      <td>1000000.0</td>\n",
       "      <td>3.658708</td>\n",
       "      <td>2.116726</td>\n",
       "      <td>0.0</td>\n",
       "      <td>2.0</td>\n",
       "      <td>4.0</td>\n",
       "      <td>5.0</td>\n",
       "      <td>7.0</td>\n",
       "    </tr>\n",
       "  </tbody>\n",
       "</table>\n",
       "</div>"
      ],
      "text/plain": [
       "                  count       mean        std   min   25%   50%   75%   max\n",
       "income        1000000.0   0.578958   0.288226   0.1   0.3   0.6   0.8   0.9\n",
       "customer_age  1000000.0  41.349480  13.751920  10.0  30.0  50.0  50.0  90.0\n",
       "month         1000000.0   3.658708   2.116726   0.0   2.0   4.0   5.0   7.0"
      ]
     },
     "execution_count": 4,
     "metadata": {},
     "output_type": "execute_result"
    }
   ],
   "source": [
    "metric_summary(df,columns=['income','customer_age','month'],path_to_save='./metric_summary.csv')"
   ]
  },
  {
   "cell_type": "code",
   "execution_count": 5,
   "id": "aeb15cb8-7459-4b07-98a1-adf6e48ea4bc",
   "metadata": {},
   "outputs": [],
   "source": [
    "schema(df,path_to_save='schema.csv', show=0)"
   ]
  },
  {
   "cell_type": "code",
   "execution_count": 6,
   "id": "1e1ed4a1-36ef-47fc-9065-8779905478c0",
   "metadata": {},
   "outputs": [
    {
     "data": {
      "text/plain": [
       "'Datacard created at location: ./fraud_bool_data_card.txt'"
      ]
     },
     "execution_count": 6,
     "metadata": {},
     "output_type": "execute_result"
    }
   ],
   "source": [
    "datacard(df, './fraud_bool_data_card.txt')"
   ]
  },
  {
   "cell_type": "code",
   "execution_count": 4,
   "id": "9e659e3f-c5f3-4606-83cd-eb9fbe6a072b",
   "metadata": {},
   "outputs": [
    {
     "name": "stdout",
     "output_type": "stream",
     "text": [
      "DIR_NAME: ../checker/local_repo/fraud_bool_data/WOMc97cb750_17rows_latest.csv\n"
     ]
    },
    {
     "data": {
      "text/plain": [
       "'HASH_KEY: fd6b0d8191bfd8b1eff1235487615aa2c97cb750'"
      ]
     },
     "execution_count": 4,
     "metadata": {},
     "output_type": "execute_result"
    }
   ],
   "source": [
    "version(df.head(17), file_name='fraud_bool_data', folder_path = '../checker',unique_identifier='17rows')"
   ]
  },
  {
   "cell_type": "code",
   "execution_count": 26,
   "id": "89be4740-37d7-4d1b-9e46-6d32867859bf",
   "metadata": {},
   "outputs": [
    {
     "name": "stderr",
     "output_type": "stream",
     "text": [
      "C:\\Users\\Prashant\\AppData\\Roaming\\Python\\Python38\\site-packages\\ydata_profiling\\utils\\dataframe.py:137: SettingWithCopyWarning: \n",
      "A value is trying to be set on a copy of a slice from a DataFrame\n",
      "\n",
      "See the caveats in the documentation: https://pandas.pydata.org/pandas-docs/stable/user_guide/indexing.html#returning-a-view-versus-a-copy\n",
      "  df.rename(columns={\"index\": \"df_index\"}, inplace=True)\n"
     ]
    },
    {
     "data": {
      "application/vnd.jupyter.widget-view+json": {
       "model_id": "cfb93f002597410e977a9d8ff8fc670c",
       "version_major": 2,
       "version_minor": 0
      },
      "text/plain": [
       "Summarize dataset:   0%|          | 0/5 [00:00<?, ?it/s]"
      ]
     },
     "metadata": {},
     "output_type": "display_data"
    },
    {
     "data": {
      "application/vnd.jupyter.widget-view+json": {
       "model_id": "ec614a8273d14c3281f12be8260f3ad9",
       "version_major": 2,
       "version_minor": 0
      },
      "text/plain": [
       "Generate report structure:   0%|          | 0/1 [00:00<?, ?it/s]"
      ]
     },
     "metadata": {},
     "output_type": "display_data"
    },
    {
     "data": {
      "application/vnd.jupyter.widget-view+json": {
       "model_id": "ebe657cae253494eb6005bad5421e8af",
       "version_major": 2,
       "version_minor": 0
      },
      "text/plain": [
       "Render HTML:   0%|          | 0/1 [00:00<?, ?it/s]"
      ]
     },
     "metadata": {},
     "output_type": "display_data"
    },
    {
     "data": {
      "application/vnd.jupyter.widget-view+json": {
       "model_id": "4d4376ef8d5a4518b0d27d268fc93c40",
       "version_major": 2,
       "version_minor": 0
      },
      "text/plain": [
       "Export report to file:   0%|          | 0/1 [00:00<?, ?it/s]"
      ]
     },
     "metadata": {},
     "output_type": "display_data"
    },
    {
     "data": {
      "text/plain": [
       "'Report is saved at location:-./report_test_1.html'"
      ]
     },
     "execution_count": 26,
     "metadata": {},
     "output_type": "execute_result"
    }
   ],
   "source": [
    "generate_report(df=df.head(10), path_to_save='./report_test_1.html', pdf=True)"
   ]
  },
  {
   "cell_type": "code",
   "execution_count": null,
   "id": "cfa8a560-cf5e-440d-b133-7aa853160174",
   "metadata": {},
   "outputs": [],
   "source": []
  }
 ],
 "metadata": {
  "kernelspec": {
   "display_name": "Python 3 (ipykernel)",
   "language": "python",
   "name": "python3"
  },
  "language_info": {
   "codemirror_mode": {
    "name": "ipython",
    "version": 3
   },
   "file_extension": ".py",
   "mimetype": "text/x-python",
   "name": "python",
   "nbconvert_exporter": "python",
   "pygments_lexer": "ipython3",
   "version": "3.8.15"
  }
 },
 "nbformat": 4,
 "nbformat_minor": 5
}
